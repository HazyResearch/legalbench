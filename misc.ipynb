{
 "cells": [
  {
   "cell_type": "code",
   "execution_count": 1,
   "metadata": {},
   "outputs": [],
   "source": [
    "import yaml\n",
    "from pathlib import Path\n",
    "import pandas as pd\n",
    "\n",
    "from typing import List"
   ]
  },
  {
   "cell_type": "code",
   "execution_count": 2,
   "metadata": {},
   "outputs": [],
   "source": [
    "def build_prompts(config, train_x, train_y, test_x):\n",
    "    \"\"\"Builds prompts for entire test set.\"\"\"\n",
    "    prompts = []\n",
    "    for x in test_x:\n",
    "        prompt = create_prompt_string(\n",
    "            test_sample=x,\n",
    "            introduction=config[\"introduction\"],\n",
    "            sample_prefix=config[\"sample_prefix\"],\n",
    "            sample_suffix=config[\"sample_suffix\"],\n",
    "            label_prefix=config[\"label_prefix\"],\n",
    "            train_samples=train_x,\n",
    "            labels=train_y,\n",
    "        )\n",
    "        prompts.append(prompt)\n",
    "    return prompts\n",
    "\n",
    "def create_prompt_string(\n",
    "    test_sample: str,\n",
    "    introduction: str = None,\n",
    "    sample_prefix: str = None,\n",
    "    sample_suffix: str = None,\n",
    "    label_prefix: str = None,\n",
    "    train_samples: List[str] = [],\n",
    "    labels: List[str] = [],\n",
    ") -> str:\n",
    "    \"\"\"Creates prompt string from prompt elements.\n",
    "\n",
    "    Prompts have the following format\n",
    "\n",
    "    <introduction>\n",
    "\n",
    "    <sample_prefix><train_sample1><sample_suffix>\n",
    "    <label_prefix><label>\n",
    "\n",
    "    <sample_prefix><train_sample2><sample_suffix>\n",
    "    <label_prefix><label>\n",
    "\n",
    "    ...\n",
    "\n",
    "    <sample_prefix><test_sample><sample_suffix>\n",
    "    <label_prefix>\n",
    "    \"\"\"\n",
    "    prompt = \"\"\n",
    "    if introduction is not None:\n",
    "        prompt = introduction + \"\\n\\n\"\n",
    "\n",
    "    # Add train samples\n",
    "    for x, y in zip(train_samples, labels):\n",
    "        if sample_prefix is not None:\n",
    "            prompt += sample_prefix\n",
    "        prompt += x\n",
    "        if sample_suffix is not None:\n",
    "            prompt += sample_suffix\n",
    "        prompt += \"\\n\"\n",
    "        if label_prefix is not None:\n",
    "            prompt += label_prefix\n",
    "        prompt += y\n",
    "        prompt += \"\\n\\n\"\n",
    "\n",
    "    # Add test samples\n",
    "    if sample_prefix is not None:\n",
    "        prompt += sample_prefix\n",
    "    prompt += test_sample\n",
    "    if sample_suffix is not None:\n",
    "        prompt += sample_suffix\n",
    "    prompt += \"\\n\"\n",
    "    if label_prefix is not None:\n",
    "        prompt += label_prefix\n",
    "\n",
    "    # Since leading spaces don't work well, strip it out\n",
    "    prompt = prompt.strip()\n",
    "    return prompt"
   ]
  },
  {
   "cell_type": "code",
   "execution_count": 19,
   "metadata": {},
   "outputs": [
    {
     "data": {
      "text/plain": [
       "{'introduction': None,\n",
       " 'label_prefix': 'A: ',\n",
       " 'labels': 'default',\n",
       " 'sample_prefix': 'Q: ',\n",
       " 'sample_suffix': None,\n",
       " 'task': 'rule_recall'}"
      ]
     },
     "execution_count": 19,
     "metadata": {},
     "output_type": "execute_result"
    }
   ],
   "source": [
    "folder = Path(\"tasks/\") / \"rule_qa\"\n",
    "train = pd.read_csv(folder / \"train.tsv\", sep=\"\\t\")\n",
    "test = pd.read_csv(folder / \"test.tsv\", sep=\"\\t\")\n",
    "\n",
    "\n",
    "config_fpath = Path(\"prompts/rule_qa_base.yaml\")\n",
    "with open(config_fpath, \"r\") as stream:\n",
    "    config = yaml.safe_load(stream)\n",
    "config"
   ]
  },
  {
   "cell_type": "code",
   "execution_count": 20,
   "metadata": {},
   "outputs": [
    {
     "data": {
      "text/html": [
       "<div>\n",
       "<style scoped>\n",
       "    .dataframe tbody tr th:only-of-type {\n",
       "        vertical-align: middle;\n",
       "    }\n",
       "\n",
       "    .dataframe tbody tr th {\n",
       "        vertical-align: top;\n",
       "    }\n",
       "\n",
       "    .dataframe thead th {\n",
       "        text-align: right;\n",
       "    }\n",
       "</style>\n",
       "<table border=\"1\" class=\"dataframe\">\n",
       "  <thead>\n",
       "    <tr style=\"text-align: right;\">\n",
       "      <th></th>\n",
       "      <th>text</th>\n",
       "      <th>label</th>\n",
       "    </tr>\n",
       "  </thead>\n",
       "  <tbody>\n",
       "  </tbody>\n",
       "</table>\n",
       "</div>"
      ],
      "text/plain": [
       "Empty DataFrame\n",
       "Columns: [text, label]\n",
       "Index: []"
      ]
     },
     "execution_count": 20,
     "metadata": {},
     "output_type": "execute_result"
    }
   ],
   "source": [
    "train"
   ]
  },
  {
   "cell_type": "code",
   "execution_count": 21,
   "metadata": {},
   "outputs": [],
   "source": [
    "prompts = build_prompts(config, train[\"text\"], train[\"label\"], [\"{{text}}\"])"
   ]
  },
  {
   "cell_type": "code",
   "execution_count": 22,
   "metadata": {},
   "outputs": [
    {
     "name": "stdout",
     "output_type": "stream",
     "text": [
      "Q: {{text}}\n",
      "A:\n"
     ]
    }
   ],
   "source": [
    "print(prompts[0])"
   ]
  },
  {
   "cell_type": "code",
   "execution_count": null,
   "metadata": {},
   "outputs": [],
   "source": []
  }
 ],
 "metadata": {
  "kernelspec": {
   "display_name": "Python 3",
   "language": "python",
   "name": "python3"
  },
  "language_info": {
   "codemirror_mode": {
    "name": "ipython",
    "version": 3
   },
   "file_extension": ".py",
   "mimetype": "text/x-python",
   "name": "python",
   "nbconvert_exporter": "python",
   "pygments_lexer": "ipython3",
   "version": "3.8.3"
  }
 },
 "nbformat": 4,
 "nbformat_minor": 4
}
