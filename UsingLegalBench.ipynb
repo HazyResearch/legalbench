{
 "cells": [
  {
   "cell_type": "markdown",
   "metadata": {},
   "source": [
    "This notebook provides a basic illustration of how LegalBench data can be loaded. "
   ]
  },
  {
   "cell_type": "code",
   "execution_count": 1,
   "metadata": {},
   "outputs": [],
   "source": [
    "import pandas as pd"
   ]
  },
  {
   "cell_type": "code",
   "execution_count": 2,
   "metadata": {},
   "outputs": [],
   "source": [
    "# Load data\n",
    "dataset = \"hearsay\"\n",
    "\n",
    "train = pd.read_csv(f\"tasks/{dataset}/train.tsv\", sep=\"\\t\")"
   ]
  },
  {
   "cell_type": "code",
   "execution_count": 3,
   "metadata": {},
   "outputs": [
    {
     "data": {
      "text/html": [
       "<div>\n",
       "<style scoped>\n",
       "    .dataframe tbody tr th:only-of-type {\n",
       "        vertical-align: middle;\n",
       "    }\n",
       "\n",
       "    .dataframe tbody tr th {\n",
       "        vertical-align: top;\n",
       "    }\n",
       "\n",
       "    .dataframe thead th {\n",
       "        text-align: right;\n",
       "    }\n",
       "</style>\n",
       "<table border=\"1\" class=\"dataframe\">\n",
       "  <thead>\n",
       "    <tr style=\"text-align: right;\">\n",
       "      <th></th>\n",
       "      <th>label</th>\n",
       "      <th>text</th>\n",
       "      <th>slice</th>\n",
       "    </tr>\n",
       "  </thead>\n",
       "  <tbody>\n",
       "    <tr>\n",
       "      <th>0</th>\n",
       "      <td>No</td>\n",
       "      <td>On the issue of whether David is fast, the fac...</td>\n",
       "      <td>Non-assertive conduct</td>\n",
       "    </tr>\n",
       "    <tr>\n",
       "      <th>1</th>\n",
       "      <td>Yes</td>\n",
       "      <td>On the issue of whether Rebecca was ill, the f...</td>\n",
       "      <td>Standard hearsay</td>\n",
       "    </tr>\n",
       "    <tr>\n",
       "      <th>2</th>\n",
       "      <td>No</td>\n",
       "      <td>To prove that Tim was a soccer fan, the fact t...</td>\n",
       "      <td>Not introduced to prove truth</td>\n",
       "    </tr>\n",
       "    <tr>\n",
       "      <th>3</th>\n",
       "      <td>No</td>\n",
       "      <td>When asked by the attorney on cross-examinatio...</td>\n",
       "      <td>Statement made in-court</td>\n",
       "    </tr>\n",
       "    <tr>\n",
       "      <th>4</th>\n",
       "      <td>Yes</td>\n",
       "      <td>On the issue of whether Martin punched James, ...</td>\n",
       "      <td>Non-verbal hearsay</td>\n",
       "    </tr>\n",
       "  </tbody>\n",
       "</table>\n",
       "</div>"
      ],
      "text/plain": [
       "  label                                               text  \\\n",
       "0    No  On the issue of whether David is fast, the fac...   \n",
       "1   Yes  On the issue of whether Rebecca was ill, the f...   \n",
       "2    No  To prove that Tim was a soccer fan, the fact t...   \n",
       "3    No  When asked by the attorney on cross-examinatio...   \n",
       "4   Yes  On the issue of whether Martin punched James, ...   \n",
       "\n",
       "                           slice  \n",
       "0          Non-assertive conduct  \n",
       "1               Standard hearsay  \n",
       "2  Not introduced to prove truth  \n",
       "3        Statement made in-court  \n",
       "4             Non-verbal hearsay  "
      ]
     },
     "execution_count": 3,
     "metadata": {},
     "output_type": "execute_result"
    }
   ],
   "source": [
    "train"
   ]
  },
  {
   "cell_type": "code",
   "execution_count": 4,
   "metadata": {},
   "outputs": [
    {
     "name": "stdout",
     "output_type": "stream",
     "text": [
      "Hearsay is an out-of-court statement introduced to prove the truth of the matter asserted.\n",
      "\n",
      "Q: On the issue of whether David is fast, the fact that David set a high school track record. Is there hearsay?\n",
      "A: No\n",
      "\n",
      "Q: On the issue of whether Rebecca was ill, the fact that Rebecca told Ronald that she was unwell. Is there hearsay?\n",
      "A: Yes\n",
      "\n",
      "Q: To prove that Tim was a soccer fan, the fact that Tim told Jimmy that \"Real Madrid was the best soccer team in the world.\" Is there hearsay?\n",
      "A: No\n",
      "\n",
      "Q: When asked by the attorney on cross-examination, Alice testified that she had \"never seen the plaintiff before, and had no idea who she was.\" Is there hearsay?\n",
      "A: No\n",
      "\n",
      "Q: On the issue of whether Martin punched James, the fact that Martin smiled and nodded when asked if he did so by an officer on the scene. Is there hearsay?\n",
      "A: Yes\n",
      "\n",
      "Q: {{text}} Is there hearsay?\n",
      "A:\n"
     ]
    }
   ],
   "source": [
    "# Load base prompt\n",
    "with open(f\"tasks/{dataset}/base_prompt.txt\") as in_file:\n",
    "    prompt_template = in_file.read()\n",
    "print(prompt_template)"
   ]
  },
  {
   "cell_type": "code",
   "execution_count": 5,
   "metadata": {},
   "outputs": [
    {
     "name": "stdout",
     "output_type": "stream",
     "text": [
      "Hearsay is an out-of-court statement introduced to prove the truth of the matter asserted.\n",
      "\n",
      "Q: On the issue of whether David is fast, the fact that David set a high school track record. Is there hearsay?\n",
      "A: No\n",
      "\n",
      "Q: On the issue of whether Rebecca was ill, the fact that Rebecca told Ronald that she was unwell. Is there hearsay?\n",
      "A: Yes\n",
      "\n",
      "Q: To prove that Tim was a soccer fan, the fact that Tim told Jimmy that \"Real Madrid was the best soccer team in the world.\" Is there hearsay?\n",
      "A: No\n",
      "\n",
      "Q: When asked by the attorney on cross-examination, Alice testified that she had \"never seen the plaintiff before, and had no idea who she was.\" Is there hearsay?\n",
      "A: No\n",
      "\n",
      "Q: On the issue of whether Martin punched James, the fact that Martin smiled and nodded when asked if he did so by an officer on the scene. Is there hearsay?\n",
      "A: Yes\n",
      "\n",
      "Q: On the issue of whether James is an smart individual, the fact that James came first in his class in law school. Is there hearsay? Is there hearsay?\n",
      "A:\n"
     ]
    }
   ],
   "source": [
    "# Generate prompt for test-sample\n",
    "text = \"On the issue of whether James is an smart individual, the fact that James came first in his class in law school. Is there hearsay?\"\n",
    "print(prompt_template.replace(\"{{text}}\", text))"
   ]
  },
  {
   "cell_type": "code",
   "execution_count": null,
   "metadata": {},
   "outputs": [],
   "source": []
  }
 ],
 "metadata": {
  "kernelspec": {
   "display_name": "Python 3",
   "language": "python",
   "name": "python3"
  },
  "language_info": {
   "codemirror_mode": {
    "name": "ipython",
    "version": 3
   },
   "file_extension": ".py",
   "mimetype": "text/x-python",
   "name": "python",
   "nbconvert_exporter": "python",
   "pygments_lexer": "ipython3",
   "version": "3.8.3"
  }
 },
 "nbformat": 4,
 "nbformat_minor": 4
}
