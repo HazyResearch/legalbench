{
 "cells": [
  {
   "cell_type": "code",
   "execution_count": 1,
   "metadata": {},
   "outputs": [],
   "source": [
    "import pandas as pd"
   ]
  },
  {
   "cell_type": "code",
   "execution_count": 2,
   "metadata": {},
   "outputs": [],
   "source": [
    "train = pd.read_csv(\"train.tsv\", sep=\"\\t\")\n",
    "test = pd.read_csv(\"test.tsv\", sep=\"\\t\")"
   ]
  },
  {
   "cell_type": "code",
   "execution_count": 5,
   "metadata": {},
   "outputs": [
    {
     "data": {
      "text/plain": [
       "array(['Employment', 'Remedies', 'Interpretations', 'Capitalization',\n",
       "       'Subsidiaries', 'Compliance With Laws', 'Further Assurances',\n",
       "       'Change In Control', 'Counterparts', 'Warranties', 'Survival',\n",
       "       'Binding Effects', 'Applicable Laws', 'Waivers', 'Governing Laws',\n",
       "       'Notices', 'Waiver Of Jury Trials', 'Agreements', 'No Waivers',\n",
       "       'Severability', 'Solvency', 'Interests', 'Death', 'Terms',\n",
       "       'Litigations', 'Amendments', 'Insurances', 'Headings',\n",
       "       'Financial Statements', 'Integration', 'Assignments',\n",
       "       'Base Salary', 'Construction', 'Fees', 'Liens', 'Authority',\n",
       "       'General', 'Participations', 'Modifications', 'No Conflicts',\n",
       "       'Miscellaneous', 'Entire Agreements', 'Indemnifications',\n",
       "       'Confidentiality', 'Consents', 'Anti-Corruption Laws', 'Taxes',\n",
       "       'Titles', 'Terminations', 'Expenses', 'Organizations',\n",
       "       'No Defaults', 'Disclosures', 'Representations', 'Disability',\n",
       "       'Closings', 'Sanctions', 'Use Of Proceeds', 'Non-Disparagement',\n",
       "       'Releases', 'Defined Terms', 'Consent To Jurisdiction',\n",
       "       'Tax Withholdings', 'Cooperation', 'Approvals', 'Vesting',\n",
       "       'Duties', 'Forfeitures', 'Withholdings', 'Successors',\n",
       "       'Intellectual Property', 'Submission To Jurisdiction', 'Vacations',\n",
       "       'Payments', 'Benefits', 'Venues', 'Enforceability', 'Brokers',\n",
       "       'Arbitration', 'Definitions', 'Authorizations', 'Adjustments',\n",
       "       'Publicity', 'Existence', 'Effective Dates',\n",
       "       'Specific Performance', 'Enforcements', 'Records', 'Sales',\n",
       "       'Erisa', 'Positions', 'Transactions With Affiliates',\n",
       "       'Effectiveness', 'Indemnity', 'Jurisdictions', 'Costs',\n",
       "       'Qualifications', 'Powers', 'Books', 'Assigns'], dtype=object)"
      ]
     },
     "execution_count": 5,
     "metadata": {},
     "output_type": "execute_result"
    }
   ],
   "source": [
    "test.label.unique()"
   ]
  },
  {
   "cell_type": "code",
   "execution_count": null,
   "metadata": {},
   "outputs": [],
   "source": []
  }
 ],
 "metadata": {
  "kernelspec": {
   "display_name": "Python 3",
   "language": "python",
   "name": "python3"
  },
  "language_info": {
   "codemirror_mode": {
    "name": "ipython",
    "version": 3
   },
   "file_extension": ".py",
   "mimetype": "text/x-python",
   "name": "python",
   "nbconvert_exporter": "python",
   "pygments_lexer": "ipython3",
   "version": "3.8.3"
  }
 },
 "nbformat": 4,
 "nbformat_minor": 4
}
